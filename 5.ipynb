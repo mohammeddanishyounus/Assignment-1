{
 "cells": [
  {
   "cell_type": "code",
   "execution_count": 20,
   "metadata": {},
   "outputs": [
    {
     "name": "stdout",
     "output_type": "stream",
     "text": [
      "Input your First Name : Muhammad Danish\n",
      "Input your Last Name : Younus\n",
      "Before Reverse Muhammad Danish Younus\n",
      "After Reverse Younus Muhammad Danish\n"
     ]
    }
   ],
   "source": [
    "first_number = input(\"Enter First Number: \")\n",
    "second_number = input (\"Enter Second Number: \")\n",
    "add = first_number + second_number\n",
    "print (\"Addition of First and Second Numbers ar\")"
   ]
  },
  {
   "cell_type": "code",
   "execution_count": null,
   "metadata": {},
   "outputs": [],
   "source": []
  },
  {
   "cell_type": "code",
   "execution_count": null,
   "metadata": {},
   "outputs": [],
   "source": []
  }
 ],
 "metadata": {
  "kernelspec": {
   "display_name": "Python 3",
   "language": "python",
   "name": "python3"
  },
  "language_info": {
   "codemirror_mode": {
    "name": "ipython",
    "version": 3
   },
   "file_extension": ".py",
   "mimetype": "text/x-python",
   "name": "python",
   "nbconvert_exporter": "python",
   "pygments_lexer": "ipython3",
   "version": "3.7.4"
  }
 },
 "nbformat": 4,
 "nbformat_minor": 2
}
